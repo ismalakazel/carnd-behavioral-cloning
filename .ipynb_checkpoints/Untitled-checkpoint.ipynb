{
 "cells": [
  {
   "cell_type": "code",
   "execution_count": 1,
   "metadata": {
    "collapsed": false
   },
   "outputs": [
    {
     "name": "stderr",
     "output_type": "stream",
     "text": [
      "Using TensorFlow backend.\n"
     ]
    }
   ],
   "source": [
    "import csv\n",
    "import numpy as np\n",
    "from sklearn.utils import shuffle\n",
    "import utils\n",
    "\n",
    "def get_data(path):\n",
    "    '''\n",
    "        Reads csv from file.\n",
    "\n",
    "        - Get center, left and right images.\n",
    "        - Associate steering angle with each image.\n",
    "        - Apply angle correction on left and right images.\n",
    "    '''\n",
    "\n",
    "    images, angles = [], []\n",
    "    CORRECTION = .2\n",
    "    with open(path) as csvfile:\n",
    "        for center, left, right, steer, _, _, _ in csv.reader(csvfile):\n",
    "            steer = float(steer)\n",
    "            images.extend([center, left, right])\n",
    "            angles.extend([steer, steer+CORRECTION, steer-CORRECTION])\n",
    "    return shuffle(np.array(images), np.array(angles))\n"
   ]
  },
  {
   "cell_type": "code",
   "execution_count": 2,
   "metadata": {
    "collapsed": true
   },
   "outputs": [],
   "source": [
    "data = get_data('./data/driving_log.csv')"
   ]
  },
  {
   "cell_type": "code",
   "execution_count": 3,
   "metadata": {
    "collapsed": true
   },
   "outputs": [],
   "source": [
    "from PIL import Image\n",
    "from random import randint\n",
    "from keras.preprocessing import image as keras_image\n",
    "\n",
    "def open_image(path):\n",
    "    return Image.open(path)\n",
    "\n",
    "def to_keras(image):\n",
    "    return keras_image.img_to_array(image)\n",
    "\n",
    "def crop(image):\n",
    "    LEFT = 60\n",
    "    TOP = 47\n",
    "    WIDTH = 320\n",
    "    HEIGHT = 160\n",
    "    box = (LEFT, TOP, WIDTH-LEFT, HEIGHT-TOP)\n",
    "    return image.crop(box)\n",
    "\n",
    "def resize(image):\n",
    "    WIDTH = 200\n",
    "    HEIGHT = 66\n",
    "    return image.resize((WIDTH, HEIGHT), Image.ANTIALIAS)\n",
    "\n",
    "def translate(image):\n",
    "    rand1 = randint(-10, 10)\n",
    "    rand2 = randint(-10, 10)\n",
    "    return image.rotate(0, translate=(rand1, rand2))\n",
    "\n",
    "def brigthness(image, constant=randint(1,3)):\n",
    "    source = image.split()\n",
    "\n",
    "    R, G, B = 0, 1, 2\n",
    "\n",
    "    Red = source[R].point(lambda i: i/constant)\n",
    "    Green = source[G].point(lambda i: i/constant)\n",
    "    Blue = source[B].point(lambda i: i/constant)\n",
    "\n",
    "    image = Image.merge(image.mode, (Red, Green, Blue))\n",
    "    return image\n",
    "\n",
    "def pre_process(image):\n",
    "    image = crop(image)\n",
    "    image = resize(image)\n",
    "    return image\n",
    "\n",
    "def augment(image):\n",
    "    image = translate(image)\n",
    "    image = brigthness(image, randint(1, 3))\n",
    "    return image"
   ]
  },
  {
   "cell_type": "code",
   "execution_count": 26,
   "metadata": {
    "collapsed": false
   },
   "outputs": [],
   "source": [
    "test_image = open_image(data[0][4])\n",
    "\n",
    "test_image = pre_process(test_image)\n",
    "test_image = brigthness(test_image, 2)\n",
    "test_image.show()"
   ]
  },
  {
   "cell_type": "code",
   "execution_count": null,
   "metadata": {
    "collapsed": true
   },
   "outputs": [],
   "source": []
  }
 ],
 "metadata": {
  "kernelspec": {
   "display_name": "Python 3",
   "language": "python",
   "name": "python3"
  },
  "language_info": {
   "codemirror_mode": {
    "name": "ipython",
    "version": 3
   },
   "file_extension": ".py",
   "mimetype": "text/x-python",
   "name": "python",
   "nbconvert_exporter": "python",
   "pygments_lexer": "ipython3",
   "version": "3.5.2"
  },
  "widgets": {
   "state": {},
   "version": "1.1.2"
  }
 },
 "nbformat": 4,
 "nbformat_minor": 2
}
